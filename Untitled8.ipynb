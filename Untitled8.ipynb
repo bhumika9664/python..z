{
 "cells": [
  {
   "cell_type": "markdown",
   "id": "9b578adf-64da-4029-ae1a-8174f118991c",
   "metadata": {},
   "source": [
    "#Data type\n",
    "#numeric data type----contain numeric values\n",
    "#integers-----contain integer values(-infinity to infinity)(-1,3,5....)\n",
    "#float----contain decimal point number(2.4,3.5....)\n",
    "#complex-----contain real and imaginary number(3+2j)\n",
    "\n",
    "#character datatype\n",
    "#string-----character or sequence of characters\n",
    "#list-----ordered,mutable collection of multiple items that can be hetrogenous\n",
    ".ordered\n",
    ".mutable\n",
    ".multiple items\n",
    ".hetrogenous----different data types\n",
    ".started and ende with square brackets\n",
    "#tuple----ordered,immutable collection of items that can be hetrogenous\n",
    ".start and ende with parantheses\n",
    ".ordered\n",
    ".immutable\n",
    ".multiple items\n",
    ".hetrogenous"
   ]
  },
  {
   "cell_type": "code",
   "execution_count": 1,
   "id": "be38cbf1-a6a4-43da-9a85-ca6be7b85cbe",
   "metadata": {},
   "outputs": [
    {
     "name": "stdout",
     "output_type": "stream",
     "text": [
      "[1, 2, 9.8, True, 'hello']\n"
     ]
    }
   ],
   "source": [
    "#list:-\n",
    "list1=[1,2,9.8,True,\"hello\"]\n",
    "print(list1)"
   ]
  },
  {
   "cell_type": "code",
   "execution_count": 5,
   "id": "0a37d771-c433-4dc9-8c92-1224c79ccc0e",
   "metadata": {},
   "outputs": [
    {
     "name": "stdout",
     "output_type": "stream",
     "text": [
      "(1, 2, 9.8, True, 'hello')\n"
     ]
    }
   ],
   "source": [
    "#tuple:-\n",
    "tuple1=(1,2,9.8,True,\"hello\")\n",
    "print(tuple1)"
   ]
  },
  {
   "cell_type": "markdown",
   "id": "c11545ee-3d09-4460-89cf-6b04f0518d4b",
   "metadata": {},
   "source": [
    "#list methods\n",
    "#append(),extend(),insert(),remove(),pop(),clear(),index(),count(),sort(),reverse(),copy()\n",
    "#append---add a singlr element to the end of a list\n",
    "#extend---add multiple elements or a new list\n",
    "#insert---add element to a specific position\n",
    "#remove--remove a specific elements(throw error if element not present)\n",
    "#pop--remove the element of the position given\n",
    "#clear---all element from list\n",
    "#index---will give the indexing of first element\n",
    "#count--will givethe number of ocurance of a specific element"
   ]
  },
  {
   "cell_type": "code",
   "execution_count": 9,
   "id": "61269deb-1046-4d35-9117-22a0100cdbe1",
   "metadata": {},
   "outputs": [
    {
     "name": "stdout",
     "output_type": "stream",
     "text": [
      "[1, 7, 8, 9, 10]\n"
     ]
    }
   ],
   "source": [
    "li=[1,7,8,9]\n",
    "li.append(10)\n",
    "print(li)"
   ]
  },
  {
   "cell_type": "code",
   "execution_count": 11,
   "id": "62fa1e21-6a32-4458-a1fe-9d188b685512",
   "metadata": {},
   "outputs": [
    {
     "name": "stdout",
     "output_type": "stream",
     "text": [
      "[1, 7, 8, 9, 10, 1, 2, 3, 4, 5]\n"
     ]
    }
   ],
   "source": [
    "li.extend([1,2,3,4,5])\n",
    "print(li)"
   ]
  },
  {
   "cell_type": "code",
   "execution_count": 13,
   "id": "5489edb6-2e9d-477e-86c3-55a6e1e09dab",
   "metadata": {},
   "outputs": [
    {
     "name": "stdout",
     "output_type": "stream",
     "text": [
      "[1, 7, 100, 8, 9, 10, 1, 2, 3, 4, 5]\n"
     ]
    }
   ],
   "source": [
    "li.insert(2,100)\n",
    "print(li)"
   ]
  },
  {
   "cell_type": "code",
   "execution_count": 15,
   "id": "8e2cda77-5fcf-4872-99d8-34848f4545c9",
   "metadata": {},
   "outputs": [
    {
     "name": "stdout",
     "output_type": "stream",
     "text": [
      "[1, 7, 8, 9, 10, 1, 2, 3, 4, 5]\n"
     ]
    }
   ],
   "source": [
    "li.remove(100)\n",
    "print(li)"
   ]
  },
  {
   "cell_type": "code",
   "execution_count": 21,
   "id": "555ce85d-5533-4bb8-addc-c1a3f0219bed",
   "metadata": {},
   "outputs": [],
   "source": [
    "#li.remove(100)---show error"
   ]
  },
  {
   "cell_type": "code",
   "execution_count": 23,
   "id": "7af358e8-e17f-4017-9e56-37155667be25",
   "metadata": {},
   "outputs": [
    {
     "name": "stdout",
     "output_type": "stream",
     "text": [
      "[1, 7, 9, 10, 1, 2, 3, 4, 5]\n"
     ]
    }
   ],
   "source": [
    "li.pop(2)\n",
    "print(li)"
   ]
  },
  {
   "cell_type": "code",
   "execution_count": 25,
   "id": "980e16a7-3cbf-4623-8f0d-8c1ba1b9430d",
   "metadata": {},
   "outputs": [
    {
     "data": {
      "text/plain": [
       "5"
      ]
     },
     "execution_count": 25,
     "metadata": {},
     "output_type": "execute_result"
    }
   ],
   "source": [
    "li.pop()"
   ]
  },
  {
   "cell_type": "code",
   "execution_count": 29,
   "id": "60f9438a-a271-4e4f-a054-09594291897d",
   "metadata": {},
   "outputs": [],
   "source": [
    "#li.remove()---give error"
   ]
  },
  {
   "cell_type": "code",
   "execution_count": 33,
   "id": "4963e55b-ff47-49d1-8099-8802475ee595",
   "metadata": {},
   "outputs": [
    {
     "name": "stdout",
     "output_type": "stream",
     "text": [
      "[]\n"
     ]
    }
   ],
   "source": [
    "li.clear()\n",
    "print(li)"
   ]
  },
  {
   "cell_type": "code",
   "execution_count": 35,
   "id": "3442174c-6a15-460a-8b38-79e735fcfb6e",
   "metadata": {},
   "outputs": [
    {
     "data": {
      "text/plain": [
       "1"
      ]
     },
     "execution_count": 35,
     "metadata": {},
     "output_type": "execute_result"
    }
   ],
   "source": [
    "li=[1,2,3,4,5,1,5,4,3,2,1,4,5,4,2,2,1,3]\n",
    "li.index(2)"
   ]
  },
  {
   "cell_type": "code",
   "execution_count": 37,
   "id": "4f14d0c6-ebad-48aa-bdc9-b81e830f28bd",
   "metadata": {},
   "outputs": [
    {
     "data": {
      "text/plain": [
       "4"
      ]
     },
     "execution_count": 37,
     "metadata": {},
     "output_type": "execute_result"
    }
   ],
   "source": [
    "li.count(2)"
   ]
  }
 ],
 "metadata": {
  "kernelspec": {
   "display_name": "Python 3 (ipykernel)",
   "language": "python",
   "name": "python3"
  },
  "language_info": {
   "codemirror_mode": {
    "name": "ipython",
    "version": 3
   },
   "file_extension": ".py",
   "mimetype": "text/x-python",
   "name": "python",
   "nbconvert_exporter": "python",
   "pygments_lexer": "ipython3",
   "version": "3.12.4"
  }
 },
 "nbformat": 4,
 "nbformat_minor": 5
}
