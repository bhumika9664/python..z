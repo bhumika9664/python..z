{
 "cells": [
  {
   "cell_type": "markdown",
   "id": "606dd89c-6f14-4787-9eb8-748c1be70bec",
   "metadata": {},
   "source": [
    "Python is a high level programing language which is easy to and simple to code\n",
    "#and is used in various domains\n",
    "#ranging , from data analysus to softeare development, data\n",
    "#science and many more\n",
    "\n",
    "#benefits\n",
    "-> simple and easy to code\n",
    "-> open up various opportunities in many domains\n",
    "\n",
    "# print(\"jaipur\")--------write inside doble or singlr quotes\n",
    "\n",
    "# print(48)------no need for single quotes"
   ]
  },
  {
   "cell_type": "code",
   "execution_count": 1,
   "id": "d96f1e53-372e-40ad-b6a2-5a6c84e53dfb",
   "metadata": {},
   "outputs": [
    {
     "name": "stdout",
     "output_type": "stream",
     "text": [
      "jaipur\n"
     ]
    }
   ],
   "source": [
    "print (\"jaipur\")"
   ]
  },
  {
   "cell_type": "code",
   "execution_count": 3,
   "id": "346f86b4-0a28-410b-8dfe-274ce8560155",
   "metadata": {},
   "outputs": [
    {
     "name": "stdout",
     "output_type": "stream",
     "text": [
      "48\n"
     ]
    }
   ],
   "source": [
    "print(48)"
   ]
  },
  {
   "cell_type": "markdown",
   "id": "98fa8b05-7ad6-409e-844f-293088f07c73",
   "metadata": {},
   "source": [
    "#string character are sequence of characters('jaipur')\n",
    "#int----- all the numericsl values except decimal values(40,50,68,79)\n",
    "#float------all the decimal values(1.1,2.2,3.3,-6.7)\n",
    "#boolean/Bool-----(True/False)\n",
    "\n",
    "\n",
    "#-------Single line commenting\n",
    "#'''/\"\"\"line'''/\"\"\"--------multiple line commenting\n",
    "\n",
    "#use case of comments:\n",
    "#to explain or give any information \n",
    "#to protect the code from raising any error on some specific sentence"
   ]
  },
  {
   "cell_type": "markdown",
   "id": "b4f989df-ab14-4c75-bee4-9c062b40e2e9",
   "metadata": {},
   "source": [
    "#variable:\n",
    "#a=10\n",
    "#variable name=variable value to give\n",
    "#we can check the data using tupe function"
   ]
  },
  {
   "cell_type": "code",
   "execution_count": 5,
   "id": "20d92171-9bcd-45d8-8107-5f29fe77fbca",
   "metadata": {},
   "outputs": [
    {
     "name": "stdout",
     "output_type": "stream",
     "text": [
      "<class 'int'>\n"
     ]
    }
   ],
   "source": [
    "a=9\n",
    "print(type(a))"
   ]
  },
  {
   "cell_type": "code",
   "execution_count": 7,
   "id": "9d7c105a-84d7-46fb-b088-2b63b89aae4b",
   "metadata": {},
   "outputs": [
    {
     "name": "stdout",
     "output_type": "stream",
     "text": [
      "<class 'str'>\n"
     ]
    }
   ],
   "source": [
    "b=\"jaipue is a nice place\"\n",
    "print(type(b))"
   ]
  },
  {
   "cell_type": "code",
   "execution_count": 9,
   "id": "aa2d17c2-c324-4d43-8260-26df5dcf6943",
   "metadata": {},
   "outputs": [
    {
     "name": "stdout",
     "output_type": "stream",
     "text": [
      "<class 'bool'>\n"
     ]
    }
   ],
   "source": [
    "c=True\n",
    "print(type(c))"
   ]
  },
  {
   "cell_type": "code",
   "execution_count": 11,
   "id": "e6e0115f-8e0e-412d-80bb-6c42211206a2",
   "metadata": {},
   "outputs": [
    {
     "name": "stdout",
     "output_type": "stream",
     "text": [
      "<class 'float'>\n"
     ]
    }
   ],
   "source": [
    "d=2.3\n",
    "print(type(d))"
   ]
  },
  {
   "cell_type": "markdown",
   "id": "6b7e41ef-cafd-42e0-acb3-fd612fb23376",
   "metadata": {},
   "source": [
    "#concatenation---to add the sentences \n",
    "#using + operator"
   ]
  },
  {
   "cell_type": "code",
   "execution_count": 13,
   "id": "20109b41-184e-4b98-b2b8-d113c33a3234",
   "metadata": {},
   "outputs": [
    {
     "name": "stdout",
     "output_type": "stream",
     "text": [
      "jaipur is a nice place And i am proud of it\n"
     ]
    }
   ],
   "source": [
    "print(\"jaipur is a nice place\" + \" And i am proud of it\")"
   ]
  },
  {
   "cell_type": "markdown",
   "id": "d4165392-cb5e-4f4b-8d41-28a7ea88903b",
   "metadata": {},
   "source": [
    "#f-string"
   ]
  },
  {
   "cell_type": "code",
   "execution_count": 15,
   "id": "95f8f44c-44eb-4ba3-96d5-5c76fedd324f",
   "metadata": {},
   "outputs": [
    {
     "name": "stdout",
     "output_type": "stream",
     "text": [
      "her age is  39 years old\n"
     ]
    }
   ],
   "source": [
    "age=30\n",
    "print(\"her age is \",39,'years old')"
   ]
  },
  {
   "cell_type": "code",
   "execution_count": 17,
   "id": "d1cd9f9c-e004-409d-9e75-ff58d4feea13",
   "metadata": {},
   "outputs": [
    {
     "name": "stdout",
     "output_type": "stream",
     "text": [
      "her age is 30 years old\n"
     ]
    }
   ],
   "source": [
    "#f-string:-\n",
    "print(f\"her age is {age} years old\")"
   ]
  }
 ],
 "metadata": {
  "kernelspec": {
   "display_name": "Python 3 (ipykernel)",
   "language": "python",
   "name": "python3"
  },
  "language_info": {
   "codemirror_mode": {
    "name": "ipython",
    "version": 3
   },
   "file_extension": ".py",
   "mimetype": "text/x-python",
   "name": "python",
   "nbconvert_exporter": "python",
   "pygments_lexer": "ipython3",
   "version": "3.12.4"
  }
 },
 "nbformat": 4,
 "nbformat_minor": 5
}
