{
 "cells": [
  {
   "cell_type": "markdown",
   "id": "9d21679f-2bef-4f12-bc10-e8fc2e171d84",
   "metadata": {},
   "source": [
    "list1=[1,2,3,4]\n",
    "1---0\n",
    "2----1\n",
    "3----2\n",
    "4----4\n",
    "\n",
    "#positive indeing------0,1,2,3,4,5.....\n",
    "#negative indexing----(-1,-2,-3...)\n",
    "\n",
    "#conditional statements\n",
    "#if(condition):\n",
    "#elif(condition):\n",
    "#elif(condition):\n",
    ".\n",
    ".\n",
    ".\n",
    "#elif(condition):\n",
    "#else"
   ]
  },
  {
   "cell_type": "code",
   "execution_count": 3,
   "id": "69951e6a-d82e-4a38-aa19-b07c96f658c9",
   "metadata": {},
   "outputs": [
    {
     "name": "stdin",
     "output_type": "stream",
     "text": [
      "Enter your age 12\n"
     ]
    }
   ],
   "source": [
    "age=int(input(\"Enter your age\"))"
   ]
  },
  {
   "cell_type": "code",
   "execution_count": 7,
   "id": "020363e8-bca4-431c-a433-0ca443b9b486",
   "metadata": {},
   "outputs": [
    {
     "name": "stdin",
     "output_type": "stream",
     "text": [
      "Enter your age 14\n"
     ]
    },
    {
     "name": "stdout",
     "output_type": "stream",
     "text": [
      "you are not elegible\n"
     ]
    }
   ],
   "source": [
    "age=int(input(\"Enter your age\"))\n",
    "if (age<18):\n",
    "    print(\"you are not elegible\")\n",
    "elif(age>18):\n",
    "    print(\"you are elegible\")\n",
    "else:\n",
    "    print(\"you are not elegble,come after one year\")"
   ]
  },
  {
   "cell_type": "code",
   "execution_count": 9,
   "id": "7b0954c3-385e-4a42-8836-0808dde43941",
   "metadata": {},
   "outputs": [
    {
     "name": "stdout",
     "output_type": "stream",
     "text": [
      "not elegible\n"
     ]
    }
   ],
   "source": [
    "has_voter_id=True\n",
    "if((age>=18) and (has_voter_id==True)):\n",
    "    print(\"elegible\")\n",
    "elif((age>=18) and (has_voter_id==False)):\n",
    "    print(\"not elegible\")\n",
    "else:\n",
    "    print(\"not elegible\")"
   ]
  },
  {
   "cell_type": "code",
   "execution_count": null,
   "id": "af780e4c-c4ce-4d7c-8a9f-00bc5abd9fb4",
   "metadata": {},
   "outputs": [],
   "source": []
  }
 ],
 "metadata": {
  "kernelspec": {
   "display_name": "Python 3 (ipykernel)",
   "language": "python",
   "name": "python3"
  },
  "language_info": {
   "codemirror_mode": {
    "name": "ipython",
    "version": 3
   },
   "file_extension": ".py",
   "mimetype": "text/x-python",
   "name": "python",
   "nbconvert_exporter": "python",
   "pygments_lexer": "ipython3",
   "version": "3.12.4"
  }
 },
 "nbformat": 4,
 "nbformat_minor": 5
}
