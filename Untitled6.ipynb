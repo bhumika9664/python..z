{
 "cells": [
  {
   "cell_type": "code",
   "execution_count": 8,
   "id": "3a14a335-356e-4bf0-9c52-255fc174a330",
   "metadata": {},
   "outputs": [
    {
     "name": "stdout",
     "output_type": "stream",
     "text": [
      "1\n"
     ]
    }
   ],
   "source": [
    "x=2\n",
    "x-=1\n",
    "print(x)"
   ]
  },
  {
   "cell_type": "markdown",
   "id": "e4f51e3f-919e-4f9f-bafa-e7adb9ea1f12",
   "metadata": {},
   "source": [
    "#Arithmatic \n",
    "#comparision \n",
    "#logical\n",
    "#assignment\n",
    "#and or not"
   ]
  },
  {
   "cell_type": "code",
   "execution_count": 10,
   "id": "e0ab4ca8-f953-408a-8120-a7739f0588fa",
   "metadata": {},
   "outputs": [
    {
     "name": "stdout",
     "output_type": "stream",
     "text": [
      "False\n"
     ]
    }
   ],
   "source": [
    "a=True\n",
    "b=False\n",
    "result=a and b\n",
    "print(result)"
   ]
  },
  {
   "cell_type": "code",
   "execution_count": 12,
   "id": "83de87f4-cfaf-4d41-90d8-c355bc448566",
   "metadata": {},
   "outputs": [
    {
     "name": "stdout",
     "output_type": "stream",
     "text": [
      "True\n"
     ]
    }
   ],
   "source": [
    "result2=a or b\n",
    "print(result2)"
   ]
  },
  {
   "cell_type": "code",
   "execution_count": 14,
   "id": "1a1456ed-29c9-4ee0-841b-7d412d22cb88",
   "metadata": {},
   "outputs": [
    {
     "name": "stdout",
     "output_type": "stream",
     "text": [
      "False\n"
     ]
    }
   ],
   "source": [
    "a=True\n",
    "result3= not a\n",
    "print(result3)"
   ]
  },
  {
   "cell_type": "code",
   "execution_count": 18,
   "id": "fcd22595-186f-4ba4-973d-976bb9e95c68",
   "metadata": {},
   "outputs": [
    {
     "name": "stdout",
     "output_type": "stream",
     "text": [
      "True\n"
     ]
    }
   ],
   "source": [
    "#Example:-\n",
    "x=10\n",
    "y=20\n",
    "z=30\n",
    "condition1= x< y and y<z\n",
    "print(condition1)"
   ]
  },
  {
   "cell_type": "code",
   "execution_count": null,
   "id": "3073cb3f-ecdf-4d1a-b1ba-907c6f8dda73",
   "metadata": {},
   "outputs": [],
   "source": [
    "condition2=x<y and y>z\n",
    "print(condition2)"
   ]
  },
  {
   "cell_type": "code",
   "execution_count": 22,
   "id": "3c009cc2-d733-41e0-a2ae-d1617f1620a2",
   "metadata": {},
   "outputs": [
    {
     "name": "stdout",
     "output_type": "stream",
     "text": [
      "True\n"
     ]
    }
   ],
   "source": [
    "condition3=x>y or y<z\n",
    "print(condition3)"
   ]
  },
  {
   "cell_type": "code",
   "execution_count": 24,
   "id": "18a9d9e9-6dbe-466e-9e2c-55fee0df213e",
   "metadata": {},
   "outputs": [
    {
     "name": "stdout",
     "output_type": "stream",
     "text": [
      "False\n"
     ]
    }
   ],
   "source": [
    "condition4=x<y and y>z\n",
    "print(condition4)"
   ]
  },
  {
   "cell_type": "code",
   "execution_count": 26,
   "id": "6579320c-5706-45bd-b157-6b452e8e8f1c",
   "metadata": {},
   "outputs": [
    {
     "name": "stdout",
     "output_type": "stream",
     "text": [
      "True\n"
     ]
    }
   ],
   "source": [
    "condition5= not (x==y)\n",
    "print(condition5)"
   ]
  },
  {
   "cell_type": "markdown",
   "id": "ace594ca-cab0-4e72-9017-147521fc2685",
   "metadata": {},
   "source": [
    "#identity operators"
   ]
  },
  {
   "cell_type": "code",
   "execution_count": 28,
   "id": "9b1c96b8-87b6-4b60-adf2-cd14b9764400",
   "metadata": {},
   "outputs": [
    {
     "name": "stdout",
     "output_type": "stream",
     "text": [
      "True\n"
     ]
    }
   ],
   "source": [
    "a=10\n",
    "b=10\n",
    "print(a==b)"
   ]
  },
  {
   "cell_type": "code",
   "execution_count": 30,
   "id": "5950bfab-4a32-4519-b956-4f04c66b9de8",
   "metadata": {},
   "outputs": [
    {
     "name": "stdout",
     "output_type": "stream",
     "text": [
      "True\n"
     ]
    }
   ],
   "source": [
    "print(a is b)"
   ]
  },
  {
   "cell_type": "markdown",
   "id": "829a3b1d-af03-429f-bd96-b945da2e61c0",
   "metadata": {},
   "source": [
    "a=[1,2,3]\n",
    "b=[1,2,3]\n",
    "print(a==b)     #value check"
   ]
  },
  {
   "cell_type": "code",
   "execution_count": 36,
   "id": "af135732-03eb-4e0f-b1a8-952f1bd52953",
   "metadata": {},
   "outputs": [
    {
     "name": "stdout",
     "output_type": "stream",
     "text": [
      "False\n"
     ]
    }
   ],
   "source": [
    "#becase both stored in different place/memory locatio\n",
    "print(a is b)"
   ]
  },
  {
   "cell_type": "code",
   "execution_count": 38,
   "id": "25b453ef-642f-400c-a9b6-c77368847c10",
   "metadata": {},
   "outputs": [
    {
     "name": "stdout",
     "output_type": "stream",
     "text": [
      "3158879589632\n"
     ]
    }
   ],
   "source": [
    "#check location\n",
    "print(id(a))"
   ]
  },
  {
   "cell_type": "code",
   "execution_count": 40,
   "id": "1d1f0c6c-0040-4f22-9eb4-abca801f51b5",
   "metadata": {},
   "outputs": [
    {
     "name": "stdout",
     "output_type": "stream",
     "text": [
      "3158879593344\n"
     ]
    }
   ],
   "source": [
    "print(id(b))"
   ]
  },
  {
   "cell_type": "code",
   "execution_count": 42,
   "id": "0d78a5af-e3e0-49bc-a274-c8c1557b94d5",
   "metadata": {},
   "outputs": [
    {
     "name": "stdout",
     "output_type": "stream",
     "text": [
      "True\n"
     ]
    }
   ],
   "source": [
    "c=[3,4,5]\n",
    "d=c\n",
    "print(c is d)   #location check "
   ]
  },
  {
   "cell_type": "code",
   "execution_count": 44,
   "id": "9dbe63ba-22a6-4cce-8705-13abeb5eb24f",
   "metadata": {},
   "outputs": [
    {
     "name": "stdout",
     "output_type": "stream",
     "text": [
      "3158928561728\n"
     ]
    }
   ],
   "source": [
    "print(id(c))"
   ]
  },
  {
   "cell_type": "code",
   "execution_count": 46,
   "id": "ed7102a4-12fb-4e27-a6d3-3879e454708e",
   "metadata": {},
   "outputs": [
    {
     "name": "stdout",
     "output_type": "stream",
     "text": [
      "3158928561728\n"
     ]
    }
   ],
   "source": [
    "print(id(d))"
   ]
  },
  {
   "cell_type": "markdown",
   "id": "fe74cdbd-efd7-4210-a3d2-e1be0e58e196",
   "metadata": {},
   "source": [
    "#membership operators\n",
    "#in"
   ]
  },
  {
   "cell_type": "code",
   "execution_count": 48,
   "id": "0f1cd166-3ab0-484f-8772-293055120d5a",
   "metadata": {},
   "outputs": [
    {
     "name": "stdout",
     "output_type": "stream",
     "text": [
      "True\n"
     ]
    }
   ],
   "source": [
    "li=[1,2,3,4]\n",
    "print(3 in li)"
   ]
  },
  {
   "cell_type": "code",
   "execution_count": 50,
   "id": "6f022eed-9bfc-4d0b-9b06-e3dbc4d78078",
   "metadata": {},
   "outputs": [
    {
     "name": "stdout",
     "output_type": "stream",
     "text": [
      "True\n"
     ]
    }
   ],
   "source": [
    "str=\"Delhi\"\n",
    "print('i' in str)"
   ]
  },
  {
   "cell_type": "code",
   "execution_count": 52,
   "id": "a78a4bc0-03bf-4d23-bcdd-06b428ca77b7",
   "metadata": {},
   "outputs": [
    {
     "name": "stdout",
     "output_type": "stream",
     "text": [
      "False\n"
     ]
    }
   ],
   "source": [
    "print(3 not in li)"
   ]
  },
  {
   "cell_type": "code",
   "execution_count": 54,
   "id": "8377186e-3ce6-45d3-9fea-68173d12a2e8",
   "metadata": {},
   "outputs": [
    {
     "name": "stdout",
     "output_type": "stream",
     "text": [
      "True\n"
     ]
    }
   ],
   "source": [
    "print('s' not in str)"
   ]
  },
  {
   "cell_type": "code",
   "execution_count": 56,
   "id": "026c42e6-2537-4384-846e-6773c4e44b3a",
   "metadata": {},
   "outputs": [
    {
     "name": "stdout",
     "output_type": "stream",
     "text": [
      "False\n"
     ]
    }
   ],
   "source": [
    "print(\"I\" in str)     #caswe sensitive"
   ]
  }
 ],
 "metadata": {
  "kernelspec": {
   "display_name": "Python 3 (ipykernel)",
   "language": "python",
   "name": "python3"
  },
  "language_info": {
   "codemirror_mode": {
    "name": "ipython",
    "version": 3
   },
   "file_extension": ".py",
   "mimetype": "text/x-python",
   "name": "python",
   "nbconvert_exporter": "python",
   "pygments_lexer": "ipython3",
   "version": "3.12.4"
  }
 },
 "nbformat": 4,
 "nbformat_minor": 5
}
