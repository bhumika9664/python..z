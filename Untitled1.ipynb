{
  "nbformat": 4,
  "nbformat_minor": 0,
  "metadata": {
    "colab": {
      "provenance": [],
      "authorship_tag": "ABX9TyPckNp+9Gt6eZQtBxD7pvsc",
      "include_colab_link": true
    },
    "kernelspec": {
      "name": "python3",
      "display_name": "Python 3"
    },
    "language_info": {
      "name": "python"
    }
  },
  "cells": [
    {
      "cell_type": "markdown",
      "metadata": {
        "id": "view-in-github",
        "colab_type": "text"
      },
      "source": [
        "<a href=\"https://colab.research.google.com/github/bhumika9664/python..z/blob/main/Untitled1.ipynb\" target=\"_parent\"><img src=\"https://colab.research.google.com/assets/colab-badge.svg\" alt=\"Open In Colab\"/></a>"
      ]
    },
    {
      "cell_type": "code",
      "execution_count": null,
      "metadata": {
        "colab": {
          "base_uri": "https://localhost:8080/"
        },
        "id": "DfzgYgxTpgZA",
        "outputId": "39e4bd53-e1ad-45a8-bda5-86ed533f91fa"
      },
      "outputs": [
        {
          "output_type": "stream",
          "name": "stdout",
          "text": [
            "hii\n",
            "<class 'int'>\n",
            "<class 'float'>\n",
            "<class 'str'>\n",
            "kotajodhpur\n",
            "<class 'bool'>\n"
          ]
        }
      ],
      "source": [
        "print('hii')\n",
        "\n",
        "\n",
        "a=45\n",
        "print(type(a))\n",
        "\n",
        "b=3.4\n",
        "print(type(b))\n",
        "\n",
        "c='kota is known for his education centers'\n",
        "print(type(c))\n",
        "\n",
        "print('kota'+'jodhpur')\n",
        "\n",
        "e=True\n",
        "print(type(e))\n",
        "\n",
        "\n"
      ]
    }
  ]
}