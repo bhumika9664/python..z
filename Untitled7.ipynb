{
 "cells": [
  {
   "cell_type": "markdown",
   "id": "f82a7194-1f3c-43a2-8885-aea9920976ce",
   "metadata": {},
   "source": [
    "#bitwise\n",
    "#and "
   ]
  },
  {
   "cell_type": "code",
   "execution_count": 1,
   "id": "e595a01d-ee1c-4c76-af1b-3b392e7645da",
   "metadata": {},
   "outputs": [
    {
     "name": "stdout",
     "output_type": "stream",
     "text": [
      "1\n"
     ]
    }
   ],
   "source": [
    "#and:-&\n",
    "a=7\n",
    "b=9\n",
    "print(a & b)"
   ]
  },
  {
   "cell_type": "code",
   "execution_count": 3,
   "id": "80ebe62d-3051-4b86-b4e0-8bace4763234",
   "metadata": {},
   "outputs": [
    {
     "name": "stdout",
     "output_type": "stream",
     "text": [
      "15\n"
     ]
    }
   ],
   "source": [
    "#or:-|\n",
    "print(a | b)"
   ]
  },
  {
   "cell_type": "code",
   "execution_count": 5,
   "id": "f16d9e11-8d62-440f-a118-9c1c293d58b4",
   "metadata": {},
   "outputs": [
    {
     "name": "stdout",
     "output_type": "stream",
     "text": [
      "14\n"
     ]
    }
   ],
   "source": [
    "#XOR:- ^\n",
    "print(a ^ b)"
   ]
  },
  {
   "cell_type": "code",
   "execution_count": 7,
   "id": "0058f203-ef02-4524-bb3c-13c1ed8284fb",
   "metadata": {},
   "outputs": [
    {
     "name": "stdout",
     "output_type": "stream",
     "text": [
      "3584\n"
     ]
    }
   ],
   "source": [
    "#leftwise:-\n",
    "print(a << b)"
   ]
  },
  {
   "cell_type": "code",
   "execution_count": 9,
   "id": "148d91c2-a9ad-4b78-a3dd-1bd4116e16bc",
   "metadata": {},
   "outputs": [
    {
     "name": "stdout",
     "output_type": "stream",
     "text": [
      "0\n"
     ]
    }
   ],
   "source": [
    "#rightwise:-\n",
    "print(a >> b)"
   ]
  },
  {
   "cell_type": "code",
   "execution_count": 11,
   "id": "516b6649-b945-4942-83e1-c9fdbd5b79e0",
   "metadata": {},
   "outputs": [
    {
     "name": "stdout",
     "output_type": "stream",
     "text": [
      "-2\n"
     ]
    }
   ],
   "source": [
    "#not:-\n",
    "print(~(a & b))"
   ]
  },
  {
   "cell_type": "markdown",
   "id": "7a20a4ff-239b-4d2e-a3f4-1af2da0822a3",
   "metadata": {},
   "source": [
    "#conditiona statement\n",
    "\n",
    "if(condition1):\n",
    "  code_to_execute\n",
    "elif(condition2):\n",
    "   code_to_execute\n",
    "else:\n",
    "    code_to execute\n",
    "\n",
    "#input duncyion:\n",
    ".it is used to take user input\n",
    ".gives a string output as default\n",
    ".we use int function outside the input function to convert the string output to integer"
   ]
  },
  {
   "cell_type": "code",
   "execution_count": 13,
   "id": "1ed03ba1-1b0b-4183-81c2-e04c81eed4ca",
   "metadata": {},
   "outputs": [
    {
     "name": "stdout",
     "output_type": "stream",
     "text": [
      "equal to 19\n"
     ]
    }
   ],
   "source": [
    "age=19\n",
    "if(age>19):\n",
    "    print(\"Greater tha 19\")\n",
    "elif(age<19):\n",
    "    print(\"age is less than 19\")\n",
    "else:\n",
    "    print(\"equal to 19\")"
   ]
  },
  {
   "cell_type": "code",
   "execution_count": 15,
   "id": "93d9e1cb-9bdb-407b-a079-ab93c4fb9f41",
   "metadata": {},
   "outputs": [
    {
     "name": "stdin",
     "output_type": "stream",
     "text": [
      "Enter your age 14\n"
     ]
    },
    {
     "name": "stdout",
     "output_type": "stream",
     "text": [
      "age is less than 19\n"
     ]
    }
   ],
   "source": [
    "age=int(input(\"Enter your age\"))\n",
    "if(age>19):\n",
    "    print(\"Greater tha 19\")\n",
    "elif(age<19):\n",
    "    print(\"age is less than 19\")\n",
    "else:\n",
    "    print(\"equal to 19\")"
   ]
  }
 ],
 "metadata": {
  "kernelspec": {
   "display_name": "Python 3 (ipykernel)",
   "language": "python",
   "name": "python3"
  },
  "language_info": {
   "codemirror_mode": {
    "name": "ipython",
    "version": 3
   },
   "file_extension": ".py",
   "mimetype": "text/x-python",
   "name": "python",
   "nbconvert_exporter": "python",
   "pygments_lexer": "ipython3",
   "version": "3.12.4"
  }
 },
 "nbformat": 4,
 "nbformat_minor": 5
}
