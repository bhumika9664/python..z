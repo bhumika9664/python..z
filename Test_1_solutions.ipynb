{
  "nbformat": 4,
  "nbformat_minor": 0,
  "metadata": {
    "colab": {
      "provenance": [],
      "authorship_tag": "ABX9TyPfAeZThtkxVlEyhCAAQdYG",
      "include_colab_link": true
    },
    "kernelspec": {
      "name": "python3",
      "display_name": "Python 3"
    },
    "language_info": {
      "name": "python"
    }
  },
  "cells": [
    {
      "cell_type": "markdown",
      "metadata": {
        "id": "view-in-github",
        "colab_type": "text"
      },
      "source": [
        "<a href=\"https://colab.research.google.com/github/bhumika9664/python..z/blob/main/Test_1_solutions.ipynb\" target=\"_parent\"><img src=\"https://colab.research.google.com/assets/colab-badge.svg\" alt=\"Open In Colab\"/></a>"
      ]
    },
    {
      "cell_type": "code",
      "execution_count": null,
      "metadata": {
        "id": "I0lI4Umy5YFQ"
      },
      "outputs": [],
      "source": [
        "#1)  list--it is represented by square brackets'[]' .\n",
        "#           it is mutable, the method involve in list are copy(),insert(),extend(),pop(),clear()etc\n",
        "#            it uses more memory,suitable for collection that may change frequentlu.\n",
        "\n",
        "#  tuple--it is represented by square brackets'()'.\n",
        "#          it is immutable, the methord involve in tuple are count(),indexing,slicingetc\n",
        "#          it uses less memory,suitable for fixxxed collection of items."
      ]
    },
    {
      "cell_type": "code",
      "source": [
        "#2) f-string allow variables and expresion to be evaluated andinserted into the string by prefixing the string with an f or F.\n",
        "age=18\n",
        "print(f'the age of elegible candidate for vote is {age}')"
      ],
      "metadata": {
        "colab": {
          "base_uri": "https://localhost:8080/"
        },
        "id": "3wa58ECkCNm5",
        "outputId": "037d880a-fe25-42d1-c4dc-a6d4369c0312"
      },
      "execution_count": null,
      "outputs": [
        {
          "output_type": "stream",
          "name": "stdout",
          "text": [
            "the age of elegible candidate for vote is 18\n"
          ]
        }
      ]
    },
    {
      "cell_type": "code",
      "source": [],
      "metadata": {
        "id": "UzIib9JsFffB"
      },
      "execution_count": null,
      "outputs": []
    },
    {
      "cell_type": "code",
      "source": [
        "#3) In python slicing work as  it cut the list in a particular formate and make a new list by using the elements of a previous list by taking elements sequense wise\n",
        "list=[1,2,3,4,5]\n",
        "list[1:4]"
      ],
      "metadata": {
        "colab": {
          "base_uri": "https://localhost:8080/"
        },
        "id": "sIrCzNTA-bW8",
        "outputId": "2912d37c-091f-46a0-b70b-524fa8ea030b"
      },
      "execution_count": null,
      "outputs": [
        {
          "output_type": "execute_result",
          "data": {
            "text/plain": [
              "[2, 3, 4]"
            ]
          },
          "metadata": {},
          "execution_count": 6
        }
      ]
    },
    {
      "cell_type": "code",
      "source": [
        "#4) IN NEGATIVE INDEXNG in python work as it take the element form right to left wise and it start from -1 to infinity and print the elements"
      ],
      "metadata": {
        "id": "O4rA9_hp-bKf"
      },
      "execution_count": null,
      "outputs": []
    },
    {
      "cell_type": "code",
      "source": [
        "#5) ==   this is an asssignment operator , i this value is to br asssigned from one varisble to another.\n",
        "# is   ------ to check the varisble is present in the list or not."
      ],
      "metadata": {
        "id": "19fZovkP-bHN"
      },
      "execution_count": null,
      "outputs": []
    },
    {
      "cell_type": "code",
      "source": [
        "#6)\n",
        "list1=[1,2,3,4,5]\n",
        "list[1:4:2]"
      ],
      "metadata": {
        "colab": {
          "base_uri": "https://localhost:8080/"
        },
        "id": "nt4f8KjEHKdK",
        "outputId": "4b965f92-7e89-4aad-c9e1-39e74a95ff94"
      },
      "execution_count": null,
      "outputs": [
        {
          "output_type": "execute_result",
          "data": {
            "text/plain": [
              "[2, 4]"
            ]
          },
          "metadata": {},
          "execution_count": 8
        }
      ]
    },
    {
      "cell_type": "code",
      "source": [
        "#7)\n",
        "tuple=(10,20,30,40)\n",
        "tuple[0:3]"
      ],
      "metadata": {
        "colab": {
          "base_uri": "https://localhost:8080/"
        },
        "id": "yYpFvl2h-bDQ",
        "outputId": "f35e4565-0ffa-4def-ec16-88a73319597c"
      },
      "execution_count": null,
      "outputs": [
        {
          "output_type": "execute_result",
          "data": {
            "text/plain": [
              "(10, 20, 30)"
            ]
          },
          "metadata": {},
          "execution_count": 10
        }
      ]
    },
    {
      "cell_type": "code",
      "source": [
        "#8)\n",
        "list1=[1,2]\n",
        "list2=[3,4]\n",
        "list3=list1+list2\n",
        "print(list3)"
      ],
      "metadata": {
        "colab": {
          "base_uri": "https://localhost:8080/"
        },
        "id": "1Xc5u5yd-awP",
        "outputId": "2dd175fc-c2c0-4526-bb9e-3d46a648cbe7"
      },
      "execution_count": null,
      "outputs": [
        {
          "output_type": "stream",
          "name": "stdout",
          "text": [
            "[1, 2, 3, 4]\n"
          ]
        }
      ]
    },
    {
      "cell_type": "code",
      "source": [
        "#9)\n",
        "x=10\n",
        "if(x==10):\n",
        "    print(\"x is equal to 10\")\n",
        "elif(x>10):\n",
        "    print(\"x is less than  to 10\")\n",
        "else:\n",
        "    print(\"x is equal to 10\")"
      ],
      "metadata": {
        "colab": {
          "base_uri": "https://localhost:8080/"
        },
        "id": "Q_4V4Xpr-ahi",
        "outputId": "be8d4165-bdc6-4384-a9ef-2ac0fe8d99eb"
      },
      "execution_count": null,
      "outputs": [
        {
          "output_type": "stream",
          "name": "stdout",
          "text": [
            "x is equal to 10\n"
          ]
        }
      ]
    },
    {
      "cell_type": "markdown",
      "source": [],
      "metadata": {
        "id": "Fgh3j2HR-aZ0"
      }
    },
    {
      "cell_type": "code",
      "source": [
        "#10)\n",
        "s=\"Hello World\"\n",
        "print(s[6:])"
      ],
      "metadata": {
        "colab": {
          "base_uri": "https://localhost:8080/"
        },
        "id": "0a5oobZDJTAX",
        "outputId": "bfd0a5d6-2764-4727-ea54-5d71cd31b4b6"
      },
      "execution_count": null,
      "outputs": [
        {
          "output_type": "stream",
          "name": "stdout",
          "text": [
            "World\n"
          ]
        }
      ]
    },
    {
      "cell_type": "code",
      "source": [
        "#11)\n",
        "valus=42\n",
        "print(f'the value is {valus}')"
      ],
      "metadata": {
        "colab": {
          "base_uri": "https://localhost:8080/"
        },
        "id": "d4gX5E0uJkCM",
        "outputId": "97a76c97-4a1f-4829-adbe-5aa5336ce236"
      },
      "execution_count": null,
      "outputs": [
        {
          "output_type": "stream",
          "name": "stdout",
          "text": [
            "the value is 42\n"
          ]
        }
      ]
    },
    {
      "cell_type": "code",
      "source": [
        "#12)\n",
        "fruits = ('apple', 'banana', 'cherry')\n",
        "\n",
        "if 'banana' in fruits:\n",
        "    print(\"Banana is present in the tuple.\")\n",
        "else:\n",
        "    print(\"Banana is not present in the tuple.\")"
      ],
      "metadata": {
        "colab": {
          "base_uri": "https://localhost:8080/"
        },
        "id": "5dyIyXt9J-7S",
        "outputId": "bb275681-594d-4a75-f0d6-a7a2e6d57648"
      },
      "execution_count": null,
      "outputs": [
        {
          "output_type": "stream",
          "name": "stdout",
          "text": [
            "Banana is present in the tuple.\n"
          ]
        }
      ]
    },
    {
      "cell_type": "code",
      "source": [
        "#13)\n",
        "list=[10,20,30,40,50]\n",
        "list[2:]"
      ],
      "metadata": {
        "colab": {
          "base_uri": "https://localhost:8080/"
        },
        "id": "Pm1ypy_4LRqM",
        "outputId": "de8bb3f9-13f4-4c03-e164-9c6917943cfb"
      },
      "execution_count": null,
      "outputs": [
        {
          "output_type": "execute_result",
          "data": {
            "text/plain": [
              "[30, 40, 50]"
            ]
          },
          "metadata": {},
          "execution_count": 27
        }
      ]
    },
    {
      "cell_type": "code",
      "source": [
        "#14) in tuple any data or elements that is stored in it can not be changed ,that,s why tuple id used instead of list"
      ],
      "metadata": {
        "id": "F0eLhgUhMHSV"
      },
      "execution_count": null,
      "outputs": []
    },
    {
      "cell_type": "code",
      "source": [
        "#15)\n",
        "list1=[1,2,3]\n",
        "list2=[3,4,5]\n",
        "list3=list1+list2\n",
        "list3[0:2]\n"
      ],
      "metadata": {
        "colab": {
          "base_uri": "https://localhost:8080/"
        },
        "id": "k4XNXHPvNI1q",
        "outputId": "b8dad373-6e5c-4173-b172-6c1ebf1b424c"
      },
      "execution_count": null,
      "outputs": [
        {
          "output_type": "execute_result",
          "data": {
            "text/plain": [
              "[1, 2]"
            ]
          },
          "metadata": {},
          "execution_count": 29
        }
      ]
    },
    {
      "cell_type": "code",
      "source": [
        "#16)\n",
        "text = \"example.txt\"\n",
        "\n",
        "if text.endswith(\".txt\"):\n",
        "    print(\"the string endswith '.txt'.\")\n",
        "else:\n",
        "    print(\"the string does not endswith '.txt'.\")"
      ],
      "metadata": {
        "colab": {
          "base_uri": "https://localhost:8080/"
        },
        "id": "oApC9IEFNsTP",
        "outputId": "2606e13e-6fee-4154-ec0d-a7b6a306d42c"
      },
      "execution_count": null,
      "outputs": [
        {
          "output_type": "stream",
          "name": "stdout",
          "text": [
            "the string endswith '.txt'.\n"
          ]
        }
      ]
    },
    {
      "cell_type": "code",
      "source": [
        "#17)\n",
        "list=[5,10,15,20,25]\n",
        "list[0:3]"
      ],
      "metadata": {
        "colab": {
          "base_uri": "https://localhost:8080/"
        },
        "id": "_JH3O6a5ODTO",
        "outputId": "2a8bb280-c150-42a7-e813-64ec5493423f"
      },
      "execution_count": null,
      "outputs": [
        {
          "output_type": "execute_result",
          "data": {
            "text/plain": [
              "[5, 10, 15]"
            ]
          },
          "metadata": {},
          "execution_count": 32
        }
      ]
    },
    {
      "cell_type": "code",
      "source": [
        "#18)\n",
        "pi=3.14159\n",
        "f'{pi:.2f}'"
      ],
      "metadata": {
        "colab": {
          "base_uri": "https://localhost:8080/",
          "height": 35
        },
        "id": "wR_TD2rVOeW0",
        "outputId": "3380454f-7502-4e96-aefb-2447fcf0897f"
      },
      "execution_count": null,
      "outputs": [
        {
          "output_type": "execute_result",
          "data": {
            "text/plain": [
              "'3.14'"
            ],
            "application/vnd.google.colaboratory.intrinsic+json": {
              "type": "string"
            }
          },
          "metadata": {},
          "execution_count": 36
        }
      ]
    },
    {
      "cell_type": "code",
      "source": [
        "#19)\n",
        "list=['Alice','Bob','Charlie']\n",
        "list[::2]"
      ],
      "metadata": {
        "colab": {
          "base_uri": "https://localhost:8080/"
        },
        "id": "41x6VXVRPNL0",
        "outputId": "0dbf7c09-fd58-434a-dc7e-66017c8b9132"
      },
      "execution_count": null,
      "outputs": [
        {
          "output_type": "execute_result",
          "data": {
            "text/plain": [
              "['Alice', 'Charlie']"
            ]
          },
          "metadata": {},
          "execution_count": 37
        }
      ]
    },
    {
      "cell_type": "code",
      "source": [
        "#20)\n",
        "s='abcdefgh'\n",
        "s[::2]"
      ],
      "metadata": {
        "id": "9Vv9k0CPPfvt",
        "colab": {
          "base_uri": "https://localhost:8080/",
          "height": 35
        },
        "outputId": "d3467d28-d15f-45e4-bd77-13ab645ddc7f"
      },
      "execution_count": 38,
      "outputs": [
        {
          "output_type": "execute_result",
          "data": {
            "text/plain": [
              "'aceg'"
            ],
            "application/vnd.google.colaboratory.intrinsic+json": {
              "type": "string"
            }
          },
          "metadata": {},
          "execution_count": 38
        }
      ]
    }
  ]
}