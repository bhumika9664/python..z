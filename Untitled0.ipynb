{
  "nbformat": 4,
  "nbformat_minor": 0,
  "metadata": {
    "colab": {
      "provenance": [],
      "authorship_tag": "ABX9TyPMbhzugrkmiHupSpGF02ye",
      "include_colab_link": true
    },
    "kernelspec": {
      "name": "python3",
      "display_name": "Python 3"
    },
    "language_info": {
      "name": "python"
    }
  },
  "cells": [
    {
      "cell_type": "markdown",
      "metadata": {
        "id": "view-in-github",
        "colab_type": "text"
      },
      "source": [
        "<a href=\"https://colab.research.google.com/github/bhumika9664/python..z/blob/main/Untitled0.ipynb\" target=\"_parent\"><img src=\"https://colab.research.google.com/assets/colab-badge.svg\" alt=\"Open In Colab\"/></a>"
      ]
    },
    {
      "cell_type": "code",
      "source": [
        "#python is a high level programming language which is\n",
        "#easy to and sympl to code and is used in various domains\n",
        "#range from data analysis to software development ,data\n",
        "#science and many more\n",
        "\n",
        "#benifites\n",
        "#simple and easy to code\n",
        "#open up various opportunities in any domains\n",
        "\n",
        "#printf(\"jaipur\")---------write inside double and single\n",
        "\n",
        "#printf(48)--------no need of single quote\n",
        "\n"
      ],
      "metadata": {
        "id": "UZpCCnqghjlE"
      },
      "execution_count": null,
      "outputs": []
    },
    {
      "cell_type": "code",
      "source": [
        "print(\"jaipur\")"
      ],
      "metadata": {
        "colab": {
          "base_uri": "https://localhost:8080/"
        },
        "id": "fXpKwE_jkm8e",
        "outputId": "daec4d9a-8102-45a6-c8f2-ab5fb88b4e9e"
      },
      "execution_count": null,
      "outputs": [
        {
          "output_type": "stream",
          "name": "stdout",
          "text": [
            "jaipur\n"
          ]
        }
      ]
    },
    {
      "cell_type": "code",
      "source": [
        "#string--------character or sequence of characters\n",
        "#int ---------all the numerical values except decimal value(40,50,68,79)\n",
        "#float-------all the decimal values(1.1,2.2,3.,-6.7)\n",
        "#Boolean/Bool------------true/false(true/false)\n",
        "\n",
        "#------------------single line commenting\n",
        "#'''/\"\"\"line'''/\"\"\"---------------------multiple line commenting\n",
        "\n",
        "#Use case of comments:\n",
        "#to explain or gove any information\n",
        "#to protect the code from raising many errors on some specific sentence\n",
        "\n"
      ],
      "metadata": {
        "id": "saSKtpwBk31j"
      },
      "execution_count": null,
      "outputs": []
    },
    {
      "cell_type": "code",
      "source": [
        "#variable:-\n",
        "#a=10\n",
        "#variable name =variable value to be given\n",
        "#concatination\n",
        "\n",
        "\n",
        "a=9\n",
        "print(type(a))\n",
        "\n",
        "b='jaipur is a nice place'\n",
        "print(type(b))\n",
        "\n",
        "c='true'\n",
        "print(type(c))\n",
        "\n",
        "#using+operator\n",
        "print('jaipur is a nice place' + 'and i am proude of my pink city')\n",
        "\n",
        "age =30\n",
        "print('her age is',30,'years old')\n",
        "\n",
        "#f-string\n",
        "print(f'Her age is {age} year old')\n",
        "\n",
        "print(48)\n",
        "\n",
        "a=34\n",
        "print(type(a))\n",
        "\n"
      ],
      "metadata": {
        "colab": {
          "base_uri": "https://localhost:8080/"
        },
        "id": "UsVBrUbXmxaU",
        "outputId": "b6936353-9c98-435e-b9d4-86963d1eba4d"
      },
      "execution_count": null,
      "outputs": [
        {
          "output_type": "stream",
          "name": "stdout",
          "text": [
            "<class 'int'>\n",
            "<class 'str'>\n",
            "<class 'str'>\n",
            "jaipur is a nice placeand i am proude of my pink city\n",
            "her age is 30 years old\n",
            "Her age is 30 year old\n",
            "48\n",
            "<class 'int'>\n"
          ]
        }
      ]
    }
  ]
}